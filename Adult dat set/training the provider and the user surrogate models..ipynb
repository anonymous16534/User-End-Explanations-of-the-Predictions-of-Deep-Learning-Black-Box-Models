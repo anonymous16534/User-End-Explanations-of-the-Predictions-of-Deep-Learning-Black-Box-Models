{
 "cells": [
  {
   "cell_type": "code",
   "execution_count": null,
   "metadata": {
    "executionInfo": {
     "elapsed": 6610,
     "status": "ok",
     "timestamp": 1639053414922,
     "user": {
      "displayName": "Rami Haffar",
      "photoUrl": "https://lh3.googleusercontent.com/a-/AOh14GivN-4FkTKiDKvMHhlJwv31uylfJn0gB7E9jeMk=s64",
      "userId": "01415100011876379673"
     },
     "user_tz": -60
    },
    "id": "pQMuiLkXZbIg"
   },
   "outputs": [],
   "source": [
    "import numpy as np\n",
    "import pandas as pd\n",
    "import seaborn as sns\n",
    "import matplotlib.pyplot as plt\n",
    "\n",
    "import torch\n",
    "import torch.nn as nn\n",
    "import torch.optim as optim\n",
    "from torch.utils.data import Dataset, DataLoader\n",
    "\n",
    "from sklearn.preprocessing import StandardScaler    \n",
    "from sklearn.model_selection import train_test_split\n",
    "from sklearn.metrics import confusion_matrix, classification_report\n",
    "\n",
    "import random"
   ]
  },
  {
   "cell_type": "code",
   "execution_count": null,
   "metadata": {
    "executionInfo": {
     "elapsed": 556,
     "status": "ok",
     "timestamp": 1639053433767,
     "user": {
      "displayName": "Rami Haffar",
      "photoUrl": "https://lh3.googleusercontent.com/a-/AOh14GivN-4FkTKiDKvMHhlJwv31uylfJn0gB7E9jeMk=s64",
      "userId": "01415100011876379673"
     },
     "user_tz": -60
    },
    "id": "7YiiR_m4ZfIP"
   },
   "outputs": [],
   "source": [
    "# read the adult data set\n",
    "adult_data = pd.read_csv('adult_data.csv', sep=',')"
   ]
  },
  {
   "cell_type": "code",
   "execution_count": null,
   "metadata": {
    "colab": {
     "base_uri": "https://localhost:8080/",
     "height": 710
    },
    "executionInfo": {
     "elapsed": 361,
     "status": "ok",
     "timestamp": 1639053434126,
     "user": {
      "displayName": "Rami Haffar",
      "photoUrl": "https://lh3.googleusercontent.com/a-/AOh14GivN-4FkTKiDKvMHhlJwv31uylfJn0gB7E9jeMk=s64",
      "userId": "01415100011876379673"
     },
     "user_tz": -60
    },
    "id": "GhrenPrzZfNL",
    "outputId": "b61ea3d1-8015-4684-84d4-ffabad40d711"
   },
   "outputs": [],
   "source": [
    "# removing the non values and the two features fnlwgt and education\n",
    "adult_data.dropna(inplace=True)\n",
    "adult_data.reset_index(drop=True, inplace=True)\n",
    "\n",
    "# Drop fnlwgt, not interesting for ML\n",
    "adult_data.drop('fnlwgt', axis=1, inplace=True)\n",
    "adult_data.drop('education', axis=1, inplace=True)\n",
    "\n",
    "#Data columns and their types\n",
    "adult_data.info()\n",
    "adult_data.head(10)"
   ]
  },
  {
   "cell_type": "code",
   "execution_count": null,
   "metadata": {
    "executionInfo": {
     "elapsed": 12,
     "status": "ok",
     "timestamp": 1639053434127,
     "user": {
      "displayName": "Rami Haffar",
      "photoUrl": "https://lh3.googleusercontent.com/a-/AOh14GivN-4FkTKiDKvMHhlJwv31uylfJn0gB7E9jeMk=s64",
      "userId": "01415100011876379673"
     },
     "user_tz": -60
    },
    "id": "RpdhsOw3ZfPw"
   },
   "outputs": [],
   "source": [
    "# incoding the marital-status into married or unmarried\n",
    "adult_data['marital-status'].replace('Married-civ-spouse', 'Married', inplace=True)\n",
    "adult_data['marital-status'].replace('Divorced', 'Unmarried', inplace=True)\n",
    "adult_data['marital-status'].replace('Never-married', 'Unmarried', inplace=True)\n",
    "adult_data['marital-status'].replace('Separated', 'Unmarried', inplace=True)\n",
    "adult_data['marital-status'].replace('Widowed', 'Unmarried', inplace=True)\n",
    "adult_data['marital-status'].replace('Married-spouse-absent', 'Married', inplace=True)\n",
    "adult_data['marital-status'].replace('Married-AF-spouse', 'Married', inplace=True)"
   ]
  },
  {
   "cell_type": "code",
   "execution_count": null,
   "metadata": {
    "executionInfo": {
     "elapsed": 11,
     "status": "ok",
     "timestamp": 1639053434127,
     "user": {
      "displayName": "Rami Haffar",
      "photoUrl": "https://lh3.googleusercontent.com/a-/AOh14GivN-4FkTKiDKvMHhlJwv31uylfJn0gB7E9jeMk=s64",
      "userId": "01415100011876379673"
     },
     "user_tz": -60
    },
    "id": "jdksFITq_nvg"
   },
   "outputs": [],
   "source": [
    "obj_columns = adult_data.select_dtypes(['object']).columns\n",
    "adult_data[obj_columns] = adult_data[obj_columns].astype('category')"
   ]
  },
  {
   "cell_type": "code",
   "execution_count": null,
   "metadata": {},
   "outputs": [],
   "source": [
    "# Convert numerics to floats \n",
    "num_columns = adult_data.select_dtypes(['int64']).columns\n",
    "adult_data[num_columns] = adult_data[num_columns].astype('float64')\n",
    "# encoding the categorical attributes into numerical\n",
    "marital_status = dict(zip(adult_data['income'].cat.codes, adult_data['income']))\n",
    "adult_data['income'] = adult_data['income'].cat.codes\n",
    "marital_status = dict(zip(adult_data['marital-status'].cat.codes, adult_data['marital-status']))\n",
    "adult_data['marital-status'] = adult_data['marital-status'].cat.codes\n",
    "occupation = dict(zip(adult_data['occupation'].cat.codes, adult_data['occupation']))\n",
    "adult_data['occupation'] = adult_data['occupation'].cat.codes\n",
    "relationship = dict(zip(adult_data['relationship'].cat.codes, adult_data['relationship']))\n",
    "adult_data['relationship'] = adult_data['relationship'].cat.codes\n",
    "race = dict(zip(adult_data['race'].cat.codes, adult_data['race']))\n",
    "adult_data['race'] = adult_data['race'].cat.codes\n",
    "gender = dict(zip(adult_data['gender'].cat.codes, adult_data['gender']))\n",
    "adult_data['gender'] = adult_data['gender'].cat.codes\n",
    "native_country = dict(zip(adult_data['native-country'].cat.codes, adult_data['native-country']))\n",
    "adult_data['native-country'] = adult_data['native-country'].cat.codes\n",
    "workclass = dict(zip(adult_data['workclass'].cat.codes, adult_data['workclass']))\n",
    "adult_data['workclass'] = adult_data['workclass'].cat.codes\n",
    "\n",
    "num_columns = adult_data.select_dtypes(['int8']).columns\n",
    "adult_data[num_columns] = adult_data[num_columns].astype('float64')\n",
    "\n",
    "display(adult_data.info())\n",
    "display(adult_data.head(10))"
   ]
  },
  {
   "cell_type": "code",
   "execution_count": null,
   "metadata": {
    "executionInfo": {
     "elapsed": 9,
     "status": "ok",
     "timestamp": 1639053434128,
     "user": {
      "displayName": "Rami Haffar",
      "photoUrl": "https://lh3.googleusercontent.com/a-/AOh14GivN-4FkTKiDKvMHhlJwv31uylfJn0gB7E9jeMk=s64",
      "userId": "01415100011876379673"
     },
     "user_tz": -60
    },
    "id": "ik7ckR-J_nyr"
   },
   "outputs": [],
   "source": [
    "# convert the data set from pandas to numpy\n",
    "adult_data = adult_data.to_numpy()"
   ]
  },
  {
   "cell_type": "code",
   "execution_count": null,
   "metadata": {
    "executionInfo": {
     "elapsed": 8,
     "status": "ok",
     "timestamp": 1639053434128,
     "user": {
      "displayName": "Rami Haffar",
      "photoUrl": "https://lh3.googleusercontent.com/a-/AOh14GivN-4FkTKiDKvMHhlJwv31uylfJn0gB7E9jeMk=s64",
      "userId": "01415100011876379673"
     },
     "user_tz": -60
    },
    "id": "H-ijKdIK_n3u"
   },
   "outputs": [],
   "source": [
    "# spliting the data into training and testing\n",
    "X_train, X_test, y_train, y_test = train_test_split(adult_data[:,:-1],adult_data[:,-1], test_size=0.2, random_state=92)\n"
   ]
  },
  {
   "cell_type": "code",
   "execution_count": null,
   "metadata": {
    "executionInfo": {
     "elapsed": 6,
     "status": "ok",
     "timestamp": 1639053434344,
     "user": {
      "displayName": "Rami Haffar",
      "photoUrl": "https://lh3.googleusercontent.com/a-/AOh14GivN-4FkTKiDKvMHhlJwv31uylfJn0gB7E9jeMk=s64",
      "userId": "01415100011876379673"
     },
     "user_tz": -60
    },
    "id": "LGqA6Fk_BQaA"
   },
   "outputs": [],
   "source": [
    "# normalizing the data\n",
    "scaler = StandardScaler()\n",
    "X_train = scaler.fit_transform(X_train)\n",
    "X_test = scaler.transform(X_test)"
   ]
  },
  {
   "cell_type": "code",
   "execution_count": null,
   "metadata": {
    "executionInfo": {
     "elapsed": 5,
     "status": "ok",
     "timestamp": 1639053434344,
     "user": {
      "displayName": "Rami Haffar",
      "photoUrl": "https://lh3.googleusercontent.com/a-/AOh14GivN-4FkTKiDKvMHhlJwv31uylfJn0gB7E9jeMk=s64",
      "userId": "01415100011876379673"
     },
     "user_tz": -60
    },
    "id": "xVYHINWwBQcu"
   },
   "outputs": [],
   "source": [
    "# the hyper parametes of the original model\n",
    "EPOCHS = 20\n",
    "BATCH_SIZE = 64\n",
    "LEARNING_RATE = 0.001"
   ]
  },
  {
   "cell_type": "code",
   "execution_count": null,
   "metadata": {
    "executionInfo": {
     "elapsed": 6,
     "status": "ok",
     "timestamp": 1639053434345,
     "user": {
      "displayName": "Rami Haffar",
      "photoUrl": "https://lh3.googleusercontent.com/a-/AOh14GivN-4FkTKiDKvMHhlJwv31uylfJn0gB7E9jeMk=s64",
      "userId": "01415100011876379673"
     },
     "user_tz": -60
    },
    "id": "GAfUlKSNBQfI"
   },
   "outputs": [],
   "source": [
    "## train data\n",
    "class TrainData(Dataset):\n",
    "    \n",
    "    def __init__(self, X_data, y_data):\n",
    "        self.X_data = X_data\n",
    "        self.y_data = y_data\n",
    "        \n",
    "    def __getitem__(self, index):\n",
    "        return self.X_data[index], self.y_data[index]\n",
    "        \n",
    "    def __len__ (self):\n",
    "        return len(self.X_data)\n",
    "\n",
    "\n",
    "train_data = TrainData(torch.FloatTensor(X_train), \n",
    "                       torch.FloatTensor(y_train))\n",
    "## test data    \n",
    "class TestData(Dataset):\n",
    "    \n",
    "    def __init__(self, X_data):\n",
    "        self.X_data = X_data\n",
    "        \n",
    "    def __getitem__(self, index):\n",
    "        return self.X_data[index]\n",
    "        \n",
    "    def __len__ (self):\n",
    "        return len(self.X_data)\n",
    "    \n",
    "\n",
    "test_data = TestData(torch.FloatTensor(X_test))"
   ]
  },
  {
   "cell_type": "code",
   "execution_count": null,
   "metadata": {
    "executionInfo": {
     "elapsed": 2,
     "status": "ok",
     "timestamp": 1639053435746,
     "user": {
      "displayName": "Rami Haffar",
      "photoUrl": "https://lh3.googleusercontent.com/a-/AOh14GivN-4FkTKiDKvMHhlJwv31uylfJn0gB7E9jeMk=s64",
      "userId": "01415100011876379673"
     },
     "user_tz": -60
    },
    "id": "1IpzQi8hBQkG"
   },
   "outputs": [],
   "source": [
    "# the data loader for the provider model\n",
    "train_loader = DataLoader(dataset=train_data, batch_size=BATCH_SIZE, shuffle=True)\n",
    "test_loader = DataLoader(dataset=test_data, batch_size=1)"
   ]
  },
  {
   "cell_type": "code",
   "execution_count": null,
   "metadata": {
    "executionInfo": {
     "elapsed": 230,
     "status": "ok",
     "timestamp": 1639053451729,
     "user": {
      "displayName": "Rami Haffar",
      "photoUrl": "https://lh3.googleusercontent.com/a-/AOh14GivN-4FkTKiDKvMHhlJwv31uylfJn0gB7E9jeMk=s64",
      "userId": "01415100011876379673"
     },
     "user_tz": -60
    },
    "id": "C9RortDfBQlt"
   },
   "outputs": [],
   "source": [
    "# models\n",
    "\n",
    "class provider_model(nn.Module):\n",
    "    def __init__(self):\n",
    "        super(BinaryClassification, self).__init__()\n",
    "        # Number of input features is 12.\n",
    "        self.layer_1 = nn.Linear(12, 100) \n",
    "        self.layer_2 = nn.Linear(100, 100)\n",
    "        self.layer_out = nn.Linear(100, 1) \n",
    "        \n",
    "        self.relu = nn.ReLU()\n",
    "        self.dropout = nn.Dropout(p=0.1)\n",
    "        self.batchnorm1 = nn.BatchNorm1d(100)\n",
    "        self.batchnorm2 = nn.BatchNorm1d(100)\n",
    "        \n",
    "    def forward(self, inputs):\n",
    "        x = self.relu(self.layer_1(inputs))\n",
    "        x = self.batchnorm1(x)\n",
    "        x = self.relu(self.layer_2(x))\n",
    "        x = self.batchnorm2(x)\n",
    "        x = self.dropout(x)\n",
    "        x = self.layer_out(x)\n",
    "        \n",
    "        return x\n",
    "class user_model(nn.Module):\n",
    "    def __init__(self):\n",
    "        super(BinaryClassification, self).__init__()\n",
    "        # Number of input features is 12.\n",
    "        self.layer_1 = nn.Linear(12, 64) \n",
    "        self.layer_2 = nn.Linear(64, 64)\n",
    "        self.layer_out = nn.Linear(64, 1) \n",
    "        \n",
    "        self.relu = nn.ReLU()\n",
    "        self.dropout = nn.Dropout(p=0.1)\n",
    "        self.batchnorm1 = nn.BatchNorm1d(64)\n",
    "        self.batchnorm2 = nn.BatchNorm1d(64)\n",
    "        \n",
    "    def forward(self, inputs):\n",
    "        x = self.relu(self.layer_1(inputs))\n",
    "        x = self.batchnorm1(x)\n",
    "        x = self.relu(self.layer_2(x))\n",
    "        x = self.batchnorm2(x)\n",
    "        x = self.dropout(x)\n",
    "        x = self.layer_out(x)\n",
    "        \n",
    "        return x"
   ]
  },
  {
   "cell_type": "code",
   "execution_count": null,
   "metadata": {
    "colab": {
     "base_uri": "https://localhost:8080/"
    },
    "executionInfo": {
     "elapsed": 224,
     "status": "ok",
     "timestamp": 1639053453779,
     "user": {
      "displayName": "Rami Haffar",
      "photoUrl": "https://lh3.googleusercontent.com/a-/AOh14GivN-4FkTKiDKvMHhlJwv31uylfJn0gB7E9jeMk=s64",
      "userId": "01415100011876379673"
     },
     "user_tz": -60
    },
    "id": "-U4nrUDEBQpZ",
    "outputId": "9d035a67-b6eb-41ac-9849-db058151ae93"
   },
   "outputs": [],
   "source": [
    "device = torch.device(\"cuda:0\" if torch.cuda.is_available() else \"cpu\")\n",
    "print(device)"
   ]
  },
  {
   "cell_type": "code",
   "execution_count": null,
   "metadata": {
    "colab": {
     "base_uri": "https://localhost:8080/"
    },
    "executionInfo": {
     "elapsed": 9705,
     "status": "ok",
     "timestamp": 1639053464565,
     "user": {
      "displayName": "Rami Haffar",
      "photoUrl": "https://lh3.googleusercontent.com/a-/AOh14GivN-4FkTKiDKvMHhlJwv31uylfJn0gB7E9jeMk=s64",
      "userId": "01415100011876379673"
     },
     "user_tz": -60
    },
    "id": "cD2LFGxgBQr4",
    "outputId": "37b3f394-0a4b-4da2-a1a6-68054f9f19b7"
   },
   "outputs": [],
   "source": [
    "# initializing the provider model\n",
    "model = provider_model()\n",
    "model.to(device)\n",
    "print(model)\n",
    "criterion = nn.BCEWithLogitsLoss()\n",
    "optimizer = optim.Adam(model.parameters(), lr=LEARNING_RATE)"
   ]
  },
  {
   "cell_type": "code",
   "execution_count": null,
   "metadata": {
    "executionInfo": {
     "elapsed": 5,
     "status": "ok",
     "timestamp": 1639053465312,
     "user": {
      "displayName": "Rami Haffar",
      "photoUrl": "https://lh3.googleusercontent.com/a-/AOh14GivN-4FkTKiDKvMHhlJwv31uylfJn0gB7E9jeMk=s64",
      "userId": "01415100011876379673"
     },
     "user_tz": -60
    },
    "id": "izlISi-NBQuv"
   },
   "outputs": [],
   "source": [
    "# get the accuracy of the model\n",
    "def binary_acc(y_pred, y_test):\n",
    "    y_pred_tag = torch.round(torch.sigmoid(y_pred))\n",
    "\n",
    "    correct_results_sum = (y_pred_tag == y_test).sum().float()\n",
    "    acc = correct_results_sum/y_test.shape[0]\n",
    "    acc = torch.round(acc * 100)\n",
    "    \n",
    "    return acc"
   ]
  },
  {
   "cell_type": "code",
   "execution_count": null,
   "metadata": {
    "colab": {
     "base_uri": "https://localhost:8080/"
    },
    "executionInfo": {
     "elapsed": 50861,
     "status": "ok",
     "timestamp": 1638993975042,
     "user": {
      "displayName": "Rami Haffar",
      "photoUrl": "https://lh3.googleusercontent.com/a-/AOh14GivN-4FkTKiDKvMHhlJwv31uylfJn0gB7E9jeMk=s64",
      "userId": "01415100011876379673"
     },
     "user_tz": -60
    },
    "id": "Ucr6VC_QBQw4",
    "outputId": "17bbe31b-4156-43a4-cb3e-8ba9a2642a54"
   },
   "outputs": [],
   "source": [
    "# train the provider model\n",
    "model.train()\n",
    "for e in range(1, EPOCHS+1):\n",
    "    epoch_loss = 0\n",
    "    epoch_acc = 0\n",
    "    for X_batch, y_batch in train_loader:\n",
    "        X_batch, y_batch = X_batch.to(device), y_batch.to(device)\n",
    "        optimizer.zero_grad()\n",
    "        \n",
    "        y_pred = model(X_batch)\n",
    "        loss = criterion(y_pred, y_batch.unsqueeze(1))\n",
    "        acc = binary_acc(y_pred, y_batch.unsqueeze(1))\n",
    "        \n",
    "        loss.backward()\n",
    "        optimizer.step()\n",
    "        \n",
    "        epoch_loss += loss.item()\n",
    "        epoch_acc += acc.item()\n",
    "        \n",
    "\n",
    "    print(f'Epoch {e+0:03}: | Loss: {epoch_loss/len(train_loader):.5f} | Acc: {epoch_acc/len(train_loader):.3f}')"
   ]
  },
  {
   "cell_type": "code",
   "execution_count": null,
   "metadata": {
    "executionInfo": {
     "elapsed": 7206,
     "status": "ok",
     "timestamp": 1638993982222,
     "user": {
      "displayName": "Rami Haffar",
      "photoUrl": "https://lh3.googleusercontent.com/a-/AOh14GivN-4FkTKiDKvMHhlJwv31uylfJn0gB7E9jeMk=s64",
      "userId": "01415100011876379673"
     },
     "user_tz": -60
    },
    "id": "R1WQUNAkBQzH"
   },
   "outputs": [],
   "source": [
    "y_pred_list = []\n",
    "model.eval()\n",
    "with torch.no_grad():\n",
    "    for X_batch in test_loader:\n",
    "        X_batch = X_batch.to(device)\n",
    "        y_test_pred = model(X_batch)\n",
    "        y_test_pred = torch.sigmoid(y_test_pred)\n",
    "        y_pred_tag = torch.round(y_test_pred)\n",
    "        y_pred_list.append(y_pred_tag.cpu().numpy())\n",
    "\n",
    "y_pred_list = [a.squeeze().tolist() for a in y_pred_list]"
   ]
  },
  {
   "cell_type": "code",
   "execution_count": null,
   "metadata": {
    "colab": {
     "base_uri": "https://localhost:8080/"
    },
    "executionInfo": {
     "elapsed": 22,
     "status": "ok",
     "timestamp": 1638993982222,
     "user": {
      "displayName": "Rami Haffar",
      "photoUrl": "https://lh3.googleusercontent.com/a-/AOh14GivN-4FkTKiDKvMHhlJwv31uylfJn0gB7E9jeMk=s64",
      "userId": "01415100011876379673"
     },
     "user_tz": -60
    },
    "id": "1AL2v125hZnp",
    "outputId": "a5fc49da-9dbf-4acb-c3e4-5900c3d9ed0a"
   },
   "outputs": [],
   "source": [
    "# the accuracy of the provider model\n",
    "counter = 0\n",
    "for i in range(len(y_test)):\n",
    "    if y_pred_list[i] == y_test[i]:\n",
    "        counter += 1   \n",
    "acc = counter/y_test.shape[0]\n",
    "acc = acc * 100\n",
    "print(acc)"
   ]
  },
  {
   "cell_type": "code",
   "execution_count": null,
   "metadata": {
    "colab": {
     "base_uri": "https://localhost:8080/"
    },
    "executionInfo": {
     "elapsed": 21,
     "status": "ok",
     "timestamp": 1638993982223,
     "user": {
      "displayName": "Rami Haffar",
      "photoUrl": "https://lh3.googleusercontent.com/a-/AOh14GivN-4FkTKiDKvMHhlJwv31uylfJn0gB7E9jeMk=s64",
      "userId": "01415100011876379673"
     },
     "user_tz": -60
    },
    "id": "LKfxQEazQqOw",
    "outputId": "b87e3eec-c56a-4148-b0bd-a7961f40bf65"
   },
   "outputs": [],
   "source": [
    "# confusion_matrix of the provider model predictions.\n",
    "confusion_matrix(y_test, y_pred_list)"
   ]
  },
  {
   "cell_type": "code",
   "execution_count": null,
   "metadata": {
    "colab": {
     "base_uri": "https://localhost:8080/"
    },
    "executionInfo": {
     "elapsed": 18,
     "status": "ok",
     "timestamp": 1638993982223,
     "user": {
      "displayName": "Rami Haffar",
      "photoUrl": "https://lh3.googleusercontent.com/a-/AOh14GivN-4FkTKiDKvMHhlJwv31uylfJn0gB7E9jeMk=s64",
      "userId": "01415100011876379673"
     },
     "user_tz": -60
    },
    "id": "VnNSAE-0QqRR",
    "outputId": "3bdc3962-eb76-411b-8ef7-e606b5740950"
   },
   "outputs": [],
   "source": [
    "# full report of the provider model predictions\n",
    "print(classification_report(y_test, y_pred_list))"
   ]
  },
  {
   "cell_type": "code",
   "execution_count": null,
   "metadata": {
    "executionInfo": {
     "elapsed": 1,
     "status": "ok",
     "timestamp": 1639053465312,
     "user": {
      "displayName": "Rami Haffar",
      "photoUrl": "https://lh3.googleusercontent.com/a-/AOh14GivN-4FkTKiDKvMHhlJwv31uylfJn0gB7E9jeMk=s64",
      "userId": "01415100011876379673"
     },
     "user_tz": -60
    },
    "id": "RNrPoO-oow9z"
   },
   "outputs": [],
   "source": [
    "# declaring the percentage of the user data from the original training data\n",
    "percentage = (len(X_train)*0.5)/100"
   ]
  },
  {
   "cell_type": "code",
   "execution_count": null,
   "metadata": {
    "colab": {
     "base_uri": "https://localhost:8080/"
    },
    "executionInfo": {
     "elapsed": 219,
     "status": "ok",
     "timestamp": 1639053466997,
     "user": {
      "displayName": "Rami Haffar",
      "photoUrl": "https://lh3.googleusercontent.com/a-/AOh14GivN-4FkTKiDKvMHhlJwv31uylfJn0gB7E9jeMk=s64",
      "userId": "01415100011876379673"
     },
     "user_tz": -60
    },
    "id": "Fzlp0EoXpN6I",
    "outputId": "06c77445-134e-4d4c-9e2d-1387e8f40004"
   },
   "outputs": [],
   "source": [
    "# data owned by the user before the augmentation\n",
    "percentage"
   ]
  },
  {
   "cell_type": "code",
   "execution_count": null,
   "metadata": {
    "executionInfo": {
     "elapsed": 2,
     "status": "ok",
     "timestamp": 1639053468049,
     "user": {
      "displayName": "Rami Haffar",
      "photoUrl": "https://lh3.googleusercontent.com/a-/AOh14GivN-4FkTKiDKvMHhlJwv31uylfJn0gB7E9jeMk=s64",
      "userId": "01415100011876379673"
     },
     "user_tz": -60
    },
    "id": "F302XHOehj88"
   },
   "outputs": [],
   "source": [
    "# randomly selecting the user data\n",
    "id_numbers = random.sample(range(0, len(X_train)), int(percentage))"
   ]
  },
  {
   "cell_type": "code",
   "execution_count": null,
   "metadata": {
    "executionInfo": {
     "elapsed": 216,
     "status": "ok",
     "timestamp": 1639053470260,
     "user": {
      "displayName": "Rami Haffar",
      "photoUrl": "https://lh3.googleusercontent.com/a-/AOh14GivN-4FkTKiDKvMHhlJwv31uylfJn0gB7E9jeMk=s64",
      "userId": "01415100011876379673"
     },
     "user_tz": -60
    },
    "id": "3JIhc-GSQw4h"
   },
   "outputs": [],
   "source": [
    "# creatign the list of the user data\n",
    "shared_data = []\n",
    "for i in range(len(id_numbers)):\n",
    "    shared_data.append(X_train[i])"
   ]
  },
  {
   "cell_type": "code",
   "execution_count": null,
   "metadata": {
    "colab": {
     "base_uri": "https://localhost:8080/"
    },
    "executionInfo": {
     "elapsed": 39405,
     "status": "ok",
     "timestamp": 1639053524572,
     "user": {
      "displayName": "Rami Haffar",
      "photoUrl": "https://lh3.googleusercontent.com/a-/AOh14GivN-4FkTKiDKvMHhlJwv31uylfJn0gB7E9jeMk=s64",
      "userId": "01415100011876379673"
     },
     "user_tz": -60
    },
    "id": "Pkr6d12NQw7H",
    "outputId": "49432012-b468-4327-c596-54b5fbd6bb60"
   },
   "outputs": [],
   "source": [
    "# augmenting the data\n",
    "n=3\n",
    "alpha = 0.25\n",
    "new_X_train = []\n",
    "for i in range(len(shared_data)):\n",
    "    for j in range(i+1,len(shared_data)):\n",
    "        num_ftrs = len(shared_data[0])\n",
    "        mixed_examples = []\n",
    "        mixed = (shared_data[i] + shared_data[j])/2\n",
    "        new_X_train.append(mixed)\n",
    "        for i in range(n-1):\n",
    "            lam = np.random.beta(alpha, alpha, size = num_ftrs)#Random weights of length num_ftrs from beta distribution)\n",
    "            mixed = lam*shared_data[i] + (1- lam)*shared_data[j]\n",
    "            new_X_train.append(mixed)"
   ]
  },
  {
   "cell_type": "code",
   "execution_count": null,
   "metadata": {
    "colab": {
     "base_uri": "https://localhost:8080/"
    },
    "executionInfo": {
     "elapsed": 286,
     "status": "ok",
     "timestamp": 1639053914113,
     "user": {
      "displayName": "Rami Haffar",
      "photoUrl": "https://lh3.googleusercontent.com/a-/AOh14GivN-4FkTKiDKvMHhlJwv31uylfJn0gB7E9jeMk=s64",
      "userId": "01415100011876379673"
     },
     "user_tz": -60
    },
    "id": "UPD6kRIhQw9a",
    "outputId": "17304c8f-3a40-4b50-b97f-99057ded5978"
   },
   "outputs": [],
   "source": [
    "# total data owned by the user after the augmentation\n",
    "len(new_X_train)"
   ]
  },
  {
   "cell_type": "code",
   "execution_count": null,
   "metadata": {
    "colab": {
     "base_uri": "https://localhost:8080/"
    },
    "executionInfo": {
     "elapsed": 855,
     "status": "ok",
     "timestamp": 1638993986442,
     "user": {
      "displayName": "Rami Haffar",
      "photoUrl": "https://lh3.googleusercontent.com/a-/AOh14GivN-4FkTKiDKvMHhlJwv31uylfJn0gB7E9jeMk=s64",
      "userId": "01415100011876379673"
     },
     "user_tz": -60
    },
    "id": "3QPCRsT8QqTi",
    "outputId": "5006f7cc-f770-4d16-9fa1-827db096ae22"
   },
   "outputs": [],
   "source": [
    "# the user data leader, this data will be labeled from the provider model.\n",
    "new_X_train1 = TestData(torch.FloatTensor(new_X_train))\n",
    "local_labeling_loader = DataLoader(dataset=new_X_train1, batch_size=1)"
   ]
  },
  {
   "cell_type": "code",
   "execution_count": null,
   "metadata": {
    "executionInfo": {
     "elapsed": 269807,
     "status": "ok",
     "timestamp": 1638994256248,
     "user": {
      "displayName": "Rami Haffar",
      "photoUrl": "https://lh3.googleusercontent.com/a-/AOh14GivN-4FkTKiDKvMHhlJwv31uylfJn0gB7E9jeMk=s64",
      "userId": "01415100011876379673"
     },
     "user_tz": -60
    },
    "id": "iwfGBiiURZLy"
   },
   "outputs": [],
   "source": [
    "# query the data to be labeled.\n",
    "Local_labels = []\n",
    "model.eval()\n",
    "with torch.no_grad():\n",
    "    for X_batch in local_labeling_loader:\n",
    "        X_batch = X_batch.to(device)\n",
    "        # print(X_batch)\n",
    "        y_test_pred = model(X_batch)\n",
    "        y_test_pred = torch.sigmoid(y_test_pred)\n",
    "        y_pred_tag = torch.round(y_test_pred)\n",
    "        Local_labels.append(y_pred_tag.cpu().numpy())\n",
    "\n",
    "Local_labels = [a.squeeze().tolist() for a in Local_labels]"
   ]
  },
  {
   "cell_type": "code",
   "execution_count": null,
   "metadata": {
    "colab": {
     "base_uri": "https://localhost:8080/"
    },
    "executionInfo": {
     "elapsed": 412,
     "status": "ok",
     "timestamp": 1638994256630,
     "user": {
      "displayName": "Rami Haffar",
      "photoUrl": "https://lh3.googleusercontent.com/a-/AOh14GivN-4FkTKiDKvMHhlJwv31uylfJn0gB7E9jeMk=s64",
      "userId": "01415100011876379673"
     },
     "user_tz": -60
    },
    "id": "8wN8HI-yRZOT",
    "outputId": "a796827e-4559-41a8-e2f4-6af3c135540c"
   },
   "outputs": [],
   "source": [
    "local_model = user_model()\n",
    "local_model.to(device)\n",
    "print(local_model)\n",
    "criterion = nn.BCEWithLogitsLoss()\n",
    "optimizer = optim.Adam(local_model.parameters(), lr=LEARNING_RATE)"
   ]
  },
  {
   "cell_type": "code",
   "execution_count": null,
   "metadata": {
    "executionInfo": {
     "elapsed": 5852,
     "status": "ok",
     "timestamp": 1638994262480,
     "user": {
      "displayName": "Rami Haffar",
      "photoUrl": "https://lh3.googleusercontent.com/a-/AOh14GivN-4FkTKiDKvMHhlJwv31uylfJn0gB7E9jeMk=s64",
      "userId": "01415100011876379673"
     },
     "user_tz": -60
    },
    "id": "U84fg_BSXm-_"
   },
   "outputs": [],
   "source": [
    "# save the user data and the labels of this data \n",
    "np.savetxt(\"/content/gdrive/MyDrive/work/adult/New_training_data_set.csv\", new_X_train, delimiter=\",\")\n",
    "np.savetxt(\"/content/gdrive/MyDrive/work/adult/Labels_of_the_new_training_data_set.csv\", Local_labels, delimiter=\",\")"
   ]
  },
  {
   "cell_type": "code",
   "execution_count": null,
   "metadata": {
    "executionInfo": {
     "elapsed": 234,
     "status": "ok",
     "timestamp": 1638994264272,
     "user": {
      "displayName": "Rami Haffar",
      "photoUrl": "https://lh3.googleusercontent.com/a-/AOh14GivN-4FkTKiDKvMHhlJwv31uylfJn0gB7E9jeMk=s64",
      "userId": "01415100011876379673"
     },
     "user_tz": -60
    },
    "id": "DoDeTJ1xRZRC"
   },
   "outputs": [],
   "source": [
    "# the data loader of the user labeled data set\n",
    "local_train_data = TrainData(torch.FloatTensor(new_X_train), \n",
    "                       torch.FloatTensor(Local_labels))\n",
    "local_train_loader = DataLoader(dataset=local_train_data, batch_size=BATCH_SIZE, shuffle=True)"
   ]
  },
  {
   "cell_type": "code",
   "execution_count": null,
   "metadata": {
    "colab": {
     "base_uri": "https://localhost:8080/"
    },
    "executionInfo": {
     "elapsed": 485220,
     "status": "ok",
     "timestamp": 1638994749489,
     "user": {
      "displayName": "Rami Haffar",
      "photoUrl": "https://lh3.googleusercontent.com/a-/AOh14GivN-4FkTKiDKvMHhlJwv31uylfJn0gB7E9jeMk=s64",
      "userId": "01415100011876379673"
     },
     "user_tz": -60
    },
    "id": "5_Nt5ojhRZYu",
    "outputId": "b3b9f492-e3aa-4778-83ed-5268a9d3997b"
   },
   "outputs": [],
   "source": [
    "# training the user model\n",
    "local_model.train()\n",
    "for e in range(1, EPOCHS+1):\n",
    "    epoch_loss = 0\n",
    "    epoch_acc = 0\n",
    "    for X_batch, y_batch in local_train_loader:\n",
    "        X_batch, y_batch = X_batch.to(device), y_batch.to(device)\n",
    "        optimizer.zero_grad()\n",
    "        \n",
    "        y_pred = local_model(X_batch)\n",
    "        \n",
    "        loss = criterion(y_pred, y_batch.unsqueeze(1))\n",
    "        acc = binary_acc(y_pred, y_batch.unsqueeze(1))\n",
    "        \n",
    "        loss.backward()\n",
    "        optimizer.step()\n",
    "        epoch_loss += loss.item()\n",
    "        epoch_acc += acc.item()\n",
    "        \n",
    "\n",
    "    print(f'Epoch {e+0:03}: | Loss: {epoch_loss/len(local_train_loader):.5f} | Acc: {epoch_acc/len(local_train_loader):.3f}')"
   ]
  },
  {
   "cell_type": "code",
   "execution_count": null,
   "metadata": {
    "executionInfo": {
     "elapsed": 7053,
     "status": "ok",
     "timestamp": 1638994756521,
     "user": {
      "displayName": "Rami Haffar",
      "photoUrl": "https://lh3.googleusercontent.com/a-/AOh14GivN-4FkTKiDKvMHhlJwv31uylfJn0gB7E9jeMk=s64",
      "userId": "01415100011876379673"
     },
     "user_tz": -60
    },
    "id": "7AcuzPqCRZbW"
   },
   "outputs": [],
   "source": [
    "y_pred_list = []\n",
    "local_model.eval()\n",
    "with torch.no_grad():\n",
    "    for X_batch in test_loader:\n",
    "        X_batch = X_batch.to(device)\n",
    "        y_test_pred = local_model(X_batch)\n",
    "        y_test_pred = torch.sigmoid(y_test_pred)\n",
    "        y_pred_tag = torch.round(y_test_pred)\n",
    "        y_pred_list.append(y_pred_tag.cpu().numpy())\n",
    "\n",
    "y_pred_list = [a.squeeze().tolist() for a in y_pred_list]"
   ]
  },
  {
   "cell_type": "code",
   "execution_count": null,
   "metadata": {
    "colab": {
     "base_uri": "https://localhost:8080/"
    },
    "executionInfo": {
     "elapsed": 36,
     "status": "ok",
     "timestamp": 1638994756522,
     "user": {
      "displayName": "Rami Haffar",
      "photoUrl": "https://lh3.googleusercontent.com/a-/AOh14GivN-4FkTKiDKvMHhlJwv31uylfJn0gB7E9jeMk=s64",
      "userId": "01415100011876379673"
     },
     "user_tz": -60
    },
    "id": "vN8mBHmgRZeA",
    "outputId": "64baf407-7813-482f-804a-c93ef019ebdb"
   },
   "outputs": [],
   "source": [
    "# confusion_matrix of the user model predictions.\n",
    "confusion_matrix(y_test, y_pred_list)"
   ]
  },
  {
   "cell_type": "code",
   "execution_count": null,
   "metadata": {
    "colab": {
     "base_uri": "https://localhost:8080/"
    },
    "executionInfo": {
     "elapsed": 32,
     "status": "ok",
     "timestamp": 1638994756523,
     "user": {
      "displayName": "Rami Haffar",
      "photoUrl": "https://lh3.googleusercontent.com/a-/AOh14GivN-4FkTKiDKvMHhlJwv31uylfJn0gB7E9jeMk=s64",
      "userId": "01415100011876379673"
     },
     "user_tz": -60
    },
    "id": "rmfHKGd4djsP",
    "outputId": "905e1101-5667-45bb-cfab-6249fa671abe"
   },
   "outputs": [],
   "source": [
    "# the user model accuracy\n",
    "counter = 0\n",
    "for i in range(len(y_test)):\n",
    "    if y_pred_list[i] == y_test[i]:\n",
    "        counter += 1   \n",
    "acc = counter/y_test.shape[0]\n",
    "acc = acc * 100\n",
    "print(acc)"
   ]
  },
  {
   "cell_type": "code",
   "execution_count": null,
   "metadata": {
    "colab": {
     "base_uri": "https://localhost:8080/"
    },
    "executionInfo": {
     "elapsed": 23,
     "status": "ok",
     "timestamp": 1638994756525,
     "user": {
      "displayName": "Rami Haffar",
      "photoUrl": "https://lh3.googleusercontent.com/a-/AOh14GivN-4FkTKiDKvMHhlJwv31uylfJn0gB7E9jeMk=s64",
      "userId": "01415100011876379673"
     },
     "user_tz": -60
    },
    "id": "A5MUVlTIRZgj",
    "outputId": "d218b87b-260c-4532-a5a1-82981f8d3df0"
   },
   "outputs": [],
   "source": [
    "# full report of the user model predictions\n",
    "print(classification_report(y_test, y_pred_list))"
   ]
  },
  {
   "cell_type": "code",
   "execution_count": null,
   "metadata": {
    "executionInfo": {
     "elapsed": 340,
     "status": "ok",
     "timestamp": 1638994756846,
     "user": {
      "displayName": "Rami Haffar",
      "photoUrl": "https://lh3.googleusercontent.com/a-/AOh14GivN-4FkTKiDKvMHhlJwv31uylfJn0gB7E9jeMk=s64",
      "userId": "01415100011876379673"
     },
     "user_tz": -60
    },
    "id": "fpstqS-zR0Ds"
   },
   "outputs": [],
   "source": [
    "# save the provider model\n",
    "torch.save(model.state_dict(), '/content/gdrive/MyDrive/work/adult/original_model.pth')"
   ]
  },
  {
   "cell_type": "code",
   "execution_count": null,
   "metadata": {
    "executionInfo": {
     "elapsed": 246,
     "status": "ok",
     "timestamp": 1638994757089,
     "user": {
      "displayName": "Rami Haffar",
      "photoUrl": "https://lh3.googleusercontent.com/a-/AOh14GivN-4FkTKiDKvMHhlJwv31uylfJn0gB7E9jeMk=s64",
      "userId": "01415100011876379673"
     },
     "user_tz": -60
    },
    "id": "fF1SpjQER0Gg"
   },
   "outputs": [],
   "source": [
    "# save the user model\n",
    "torch.save(local_model.state_dict(), '/content/gdrive/MyDrive/work/adult/local_model.pth')"
   ]
  }
 ],
 "metadata": {
  "accelerator": "GPU",
  "colab": {
   "authorship_tag": "ABX9TyP8LdbBct8qN0fPLSd9Ri0X",
   "collapsed_sections": [],
   "name": "adult.ipynb",
   "provenance": []
  },
  "kernelspec": {
   "display_name": "Python 3",
   "language": "python",
   "name": "python3"
  },
  "language_info": {
   "codemirror_mode": {
    "name": "ipython",
    "version": 3
   },
   "file_extension": ".py",
   "mimetype": "text/x-python",
   "name": "python",
   "nbconvert_exporter": "python",
   "pygments_lexer": "ipython3",
   "version": "3.7.4"
  }
 },
 "nbformat": 4,
 "nbformat_minor": 1
}
