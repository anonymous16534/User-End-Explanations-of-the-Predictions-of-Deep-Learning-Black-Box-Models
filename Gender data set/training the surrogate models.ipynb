{
 "cells": [
  {
   "cell_type": "code",
   "execution_count": 1,
   "metadata": {},
   "outputs": [],
   "source": [
    "import os\n",
    "import pandas as pd\n",
    "import numpy as np\n",
    "import matplotlib.pyplot as plt\n",
    "import torch\n",
    "import torchvision\n",
    "import tarfile\n",
    "import torchvision.utils\n",
    "from torchvision.datasets.utils import download_url\n",
    "from torch.utils.data import random_split\n",
    "\n",
    "from torchvision.datasets import ImageFolder\n",
    "from torchvision.transforms import ToTensor\n",
    "from models import *\n",
    "import torchvision.transforms as transforms\n",
    "from torch.utils.data.dataloader import DataLoader\n",
    "import gc\n",
    "from utils import * \n",
    "import time"
   ]
  },
  {
   "cell_type": "code",
   "execution_count": 2,
   "metadata": {},
   "outputs": [],
   "source": [
    "# defining the resizing of the images\n",
    "transform = transforms.Compose([transforms.Resize((100, 100)), transforms.ToTensor()])"
   ]
  },
  {
   "cell_type": "code",
   "execution_count": 3,
   "metadata": {},
   "outputs": [],
   "source": [
    "# the path of the original data, the augmented data and the models\n",
    "data_dir = 'D:/gende recog adv ex/data_perc'\n",
    "original_data_dir = './input/gender-classification-dataset'\n",
    "folder_path1 = 'D:/gende recog adv ex/final networks'\n",
    "folder_path = 'D:/gende recog adv ex'"
   ]
  },
  {
   "cell_type": "code",
   "execution_count": 4,
   "metadata": {},
   "outputs": [],
   "source": [
    "# reading the test data set and the augmeted data set.\n",
    "dataset_test = ImageFolder(original_data_dir+\"/Validation\", transform = transform)\n",
    "dataset_explain = ImageFolder(data_dir, transform=transform)\n",
    "attacker_data_loader = DataLoader(dataset_explain, 1)"
   ]
  },
  {
   "cell_type": "code",
   "execution_count": 5,
   "metadata": {},
   "outputs": [
    {
     "data": {
      "text/plain": [
       "27730"
      ]
     },
     "execution_count": 5,
     "metadata": {},
     "output_type": "execute_result"
    }
   ],
   "source": [
    "len(dataset_explain)"
   ]
  },
  {
   "cell_type": "code",
   "execution_count": 6,
   "metadata": {},
   "outputs": [
    {
     "data": {
      "text/plain": [
       "device(type='cuda')"
      ]
     },
     "execution_count": 6,
     "metadata": {},
     "output_type": "execute_result"
    }
   ],
   "source": [
    "device = torch.device(\"cuda\" if torch.cuda.is_available() \n",
    "                                  else \"cpu\")\n",
    "device"
   ]
  },
  {
   "cell_type": "code",
   "execution_count": 7,
   "metadata": {},
   "outputs": [
    {
     "data": {
      "text/plain": [
       "<All keys matched successfully>"
      ]
     },
     "execution_count": 7,
     "metadata": {},
     "output_type": "execute_result"
    }
   ],
   "source": [
    "# reading the provider model\n",
    "model = GenCnnModel()\n",
    "model = to_device(GenCnnModel(), device)\n",
    "model.load_state_dict(torch.load(folder_path1+'model_main_new.pth'))"
   ]
  },
  {
   "cell_type": "code",
   "execution_count": 9,
   "metadata": {},
   "outputs": [
    {
     "name": "stderr",
     "output_type": "stream",
     "text": [
      "C:\\Users\\012709558\\AppData\\Local\\Continuum\\anaconda3\\lib\\site-packages\\torch\\nn\\functional.py:718: UserWarning: Named tensors and all their associated APIs are an experimental feature and subject to change. Please do not use them for anything important until they are released as stable. (Triggered internally at  ..\\c10/core/TensorImpl.h:1156.)\n",
      "  return torch.max_pool2d(input, kernel_size, stride, padding, dilation, ceil_mode)\n"
     ]
    },
    {
     "name": "stdout",
     "output_type": "stream",
     "text": [
      "test time elapsed 280671ms\n",
      "test time elapsed 280.671s\n"
     ]
    }
   ],
   "source": [
    "# querying the labels from the provider model\n",
    "start =int(round(time.time()*1000))\n",
    "new_classes = create_classes_val(attacker_data_loader, model,device)\n",
    "end =int(round(time.time()*1000))\n",
    "# torch.cuda.synchronize()\n",
    "time_elapsed = int(round(time.time()*1000)) -start\n",
    "# print(start.elapsed_time(end))\n",
    "print ('test time elapsed {}ms'.format(time_elapsed))\n",
    "print ('test time elapsed {}s'.format(time_elapsed/1000))"
   ]
  },
  {
   "cell_type": "code",
   "execution_count": 10,
   "metadata": {},
   "outputs": [
    {
     "name": "stdout",
     "output_type": "stream",
     "text": [
      "test time per image elapsed 10.121565091958168 ms\n",
      "test time per image elapsed 0.010121565091958168 s\n"
     ]
    }
   ],
   "source": [
    "time_per_image = time_elapsed/len(dataset_explain)\n",
    "print ('test time per image elapsed {} ms'.format(time_per_image))\n",
    "print ('test time per image elapsed {} s'.format(time_per_image/1000))"
   ]
  },
  {
   "cell_type": "code",
   "execution_count": 11,
   "metadata": {},
   "outputs": [
    {
     "data": {
      "text/plain": [
       "27730"
      ]
     },
     "execution_count": 11,
     "metadata": {},
     "output_type": "execute_result"
    }
   ],
   "source": [
    "len(new_classes)"
   ]
  },
  {
   "cell_type": "code",
   "execution_count": 12,
   "metadata": {},
   "outputs": [
    {
     "name": "stdout",
     "output_type": "stream",
     "text": [
      "test time elapsed 4ms\n",
      "test time elapsed 0.004s\n"
     ]
    }
   ],
   "source": [
    "\n",
    "# inserting the labels into the data loader.\n",
    "start =int(round(time.time()*1000))\n",
    "dataset_explain.samples = [(x ,new_classes[i])  for i, (x, y) in enumerate(dataset_explain.samples)]\n",
    "end =int(round(time.time()*1000))\n",
    "# torch.cuda.synchronize()\n",
    "time_elapsed = int(round(time.time()*1000)) -start\n",
    "# print(start.elapsed_time(end))\n",
    "print ('test time elapsed {}ms'.format(time_elapsed))\n",
    "print ('test time elapsed {}s'.format(time_elapsed/1000))"
   ]
  },
  {
   "cell_type": "code",
   "execution_count": 13,
   "metadata": {},
   "outputs": [],
   "source": [
    "# dataset_explain.samples"
   ]
  },
  {
   "cell_type": "code",
   "execution_count": 14,
   "metadata": {},
   "outputs": [
    {
     "name": "stdout",
     "output_type": "stream",
     "text": [
      "45109666\n"
     ]
    }
   ],
   "source": [
    "s = 0\n",
    "for _, p in model.named_parameters():\n",
    "    if p.requires_grad:\n",
    "        s+= p.numel()\n",
    "print(s)"
   ]
  },
  {
   "cell_type": "code",
   "execution_count": 15,
   "metadata": {},
   "outputs": [],
   "source": [
    "size = int(len(dataset_explain)*90/100)"
   ]
  },
  {
   "cell_type": "code",
   "execution_count": 16,
   "metadata": {},
   "outputs": [
    {
     "data": {
      "text/plain": [
       "(24957, 2773)"
      ]
     },
     "execution_count": 16,
     "metadata": {},
     "output_type": "execute_result"
    }
   ],
   "source": [
    "# spliting the augmented data into training and validation\n",
    "train_size = size\n",
    "val_size = len(dataset_explain) - train_size\n",
    "\n",
    "data_train, data_val = random_split(dataset_explain, [train_size, val_size])\n",
    "len(data_train), len(data_val)"
   ]
  },
  {
   "cell_type": "code",
   "execution_count": 17,
   "metadata": {},
   "outputs": [],
   "source": [
    "batch_size = 16"
   ]
  },
  {
   "cell_type": "code",
   "execution_count": 18,
   "metadata": {},
   "outputs": [],
   "source": [
    "# data loaders to train and evaluate the surrogate models\n",
    "train_dl = DataLoader(data_train, batch_size, shuffle = True)\n",
    "val_dl = DataLoader(data_val, batch_size*2)\n",
    "test_dl = DataLoader(dataset_test, batch_size*2)\n",
    "steel_loader = DeviceDataLoader(train_dl, device)\n",
    "val_loader = DeviceDataLoader(val_dl, device)\n",
    "test_loader = DeviceDataLoader(test_dl, device)"
   ]
  },
  {
   "cell_type": "code",
   "execution_count": 19,
   "metadata": {},
   "outputs": [],
   "source": [
    "num_epochs = 10\n",
    "opt_func = torch.optim.Adam\n",
    "lr = 0.00001"
   ]
  },
  {
   "cell_type": "code",
   "execution_count": 21,
   "metadata": {},
   "outputs": [
    {
     "name": "stdout",
     "output_type": "stream",
     "text": [
      "test time elapsed 65418ms\n",
      "test time elapsed 65.418s\n",
      "{'val_loss': 0.08898299187421799, 'val_acc': 0.9663527607917786}\n"
     ]
    }
   ],
   "source": [
    "# evaluation of the provider model\n",
    "start =int(round(time.time()*1000))\n",
    "acc = evaluate(model, test_loader)\n",
    "end =int(round(time.time()*1000))\n",
    "# torch.cuda.synchronize()\n",
    "time_elapsed = int(round(time.time()*1000)) -start\n",
    "# print(start.elapsed_time(end))\n",
    "print ('test time elapsed {}ms'.format(time_elapsed))\n",
    "print ('test time elapsed {}s'.format(time_elapsed/1000))\n",
    "print(acc)"
   ]
  },
  {
   "cell_type": "code",
   "execution_count": 22,
   "metadata": {},
   "outputs": [],
   "source": [
    "# deletingt he provider model to clear the RAM\n",
    "del model\n",
    "gc.collect()\n",
    "torch.cuda.empty_cache()"
   ]
  },
  {
   "cell_type": "code",
   "execution_count": 23,
   "metadata": {},
   "outputs": [],
   "source": [
    "# initializing surrogate model 2\n",
    "surrogate2 = GenCnnModel()\n",
    "surrogate2 = to_device(GenCnnModel(), device)"
   ]
  },
  {
   "cell_type": "code",
   "execution_count": null,
   "metadata": {},
   "outputs": [
    {
     "name": "stdout",
     "output_type": "stream",
     "text": [
      "Epoch [0], train_loss: 0.6820, val_loss: 0.6109, val_acc: 0.6625\n",
      "Epoch [1], train_loss: 0.4901, val_loss: 0.3438, val_acc: 0.8434\n"
     ]
    }
   ],
   "source": [
    "# the training of surrogate model 2\n",
    "start =int(round(time.time()*1000))\n",
    "history = fit(num_epochs, lr, surrogate2, steel_loader, val_loader, opt_func)\n",
    "end =int(round(time.time()*1000))\n",
    "# torch.cuda.synchronize()\n",
    "time_elapsed = int(round(time.time()*1000)) -start\n",
    "# print(start.elapsed_time(end))\n",
    "print ('test time elapsed {}ms'.format(time_elapsed))\n",
    "print ('test time elapsed {}s'.format(time_elapsed/1000))"
   ]
  },
  {
   "cell_type": "code",
   "execution_count": 25,
   "metadata": {},
   "outputs": [
    {
     "name": "stdout",
     "output_type": "stream",
     "text": [
      "test time elapsed 18281ms\n",
      "test time elapsed 18.281s\n",
      "{'val_loss': 0.2908066511154175, 'val_acc': 0.9148972630500793}\n"
     ]
    }
   ],
   "source": [
    "# evaluation of surrogate models 2\n",
    "start =int(round(time.time()*1000))\n",
    "acc = evaluate(surrogate2, test_loader)\n",
    "end =int(round(time.time()*1000))\n",
    "# torch.cuda.synchronize()\n",
    "time_elapsed = int(round(time.time()*1000)) -start\n",
    "# print(start.elapsed_time(end))\n",
    "print ('test time elapsed {}ms'.format(time_elapsed))\n",
    "print ('test time elapsed {}s'.format(time_elapsed/1000))\n",
    "print(acc)"
   ]
  },
  {
   "cell_type": "code",
   "execution_count": 26,
   "metadata": {},
   "outputs": [
    {
     "name": "stdout",
     "output_type": "stream",
     "text": [
      "test time per image elapsed 0.6592499098449333 ms\n",
      "test time per image elapsed 0.0006592499098449332 s\n"
     ]
    }
   ],
   "source": [
    "time_per_image = time_elapsed/len(dataset_explain)\n",
    "print ('test time per image elapsed {} ms'.format(time_per_image))\n",
    "print ('test time per image elapsed {} s'.format(time_per_image/1000))"
   ]
  },
  {
   "cell_type": "code",
   "execution_count": 27,
   "metadata": {},
   "outputs": [],
   "source": [
    "# save te Surrogate model 2\n",
    "torch.save(surrogate2.state_dict(), folder_path+'/networks_final/Surrogate_2.pth')"
   ]
  },
  {
   "cell_type": "code",
   "execution_count": 28,
   "metadata": {},
   "outputs": [],
   "source": [
    "# delete surrogate2 to clear the RAM\n",
    "del surrogate2\n",
    "gc.collect()\n",
    "torch.cuda.empty_cache()"
   ]
  },
  {
   "cell_type": "code",
   "execution_count": 29,
   "metadata": {},
   "outputs": [],
   "source": [
    "# evaluate(model, test_loader)"
   ]
  },
  {
   "cell_type": "code",
   "execution_count": 30,
   "metadata": {},
   "outputs": [],
   "source": [
    "# initializing surrogate model 1\n",
    "Surrogate1 = exp_GenCnnModel()\n",
    "Surrogate1 = to_device(exp_GenCnnModel(), device)"
   ]
  },
  {
   "cell_type": "code",
   "execution_count": 31,
   "metadata": {},
   "outputs": [
    {
     "name": "stdout",
     "output_type": "stream",
     "text": [
      "Epoch [0], train_loss: 0.6669, val_loss: 0.5300, val_acc: 0.7475\n",
      "Epoch [1], train_loss: 0.4051, val_loss: 0.2821, val_acc: 0.8741\n",
      "Epoch [2], train_loss: 0.2840, val_loss: 0.2576, val_acc: 0.8869\n",
      "Epoch [3], train_loss: 0.2460, val_loss: 0.2294, val_acc: 0.8940\n",
      "Epoch [4], train_loss: 0.2141, val_loss: 0.1977, val_acc: 0.9107\n",
      "Epoch [5], train_loss: 0.1945, val_loss: 0.1888, val_acc: 0.9203\n",
      "Epoch [6], train_loss: 0.1780, val_loss: 0.1675, val_acc: 0.9253\n",
      "Epoch [7], train_loss: 0.1687, val_loss: 0.1603, val_acc: 0.9289\n",
      "Epoch [8], train_loss: 0.1559, val_loss: 0.1392, val_acc: 0.9371\n",
      "Epoch [9], train_loss: 0.1492, val_loss: 0.1488, val_acc: 0.9368\n",
      "test time elapsed 1267966ms\n",
      "test time elapsed 1267.966s\n"
     ]
    }
   ],
   "source": [
    "# the training of surrogate model 2\n",
    "start =int(round(time.time()*1000))\n",
    "history = fit(num_epochs, lr, Surrogate1, steel_loader, val_loader, opt_func)\n",
    "end =int(round(time.time()*1000))\n",
    "# torch.cuda.synchronize()\n",
    "time_elapsed = int(round(time.time()*1000)) -start\n",
    "# print(start.elapsed_time(end))\n",
    "print ('test time elapsed {}ms'.format(time_elapsed))\n",
    "print ('test time elapsed {}s'.format(time_elapsed/1000))"
   ]
  },
  {
   "cell_type": "code",
   "execution_count": 32,
   "metadata": {},
   "outputs": [
    {
     "name": "stdout",
     "output_type": "stream",
     "text": [
      "test time elapsed 23888ms\n",
      "test time elapsed 23.888s\n",
      "{'val_loss': 0.21679826080799103, 'val_acc': 0.9273972511291504}\n"
     ]
    }
   ],
   "source": [
    "# evaluating surrogate model 1\n",
    "start =int(round(time.time()*1000))\n",
    "acc = evaluate(Surrogate1, test_loader)\n",
    "end =int(round(time.time()*1000))\n",
    "# torch.cuda.synchronize()\n",
    "time_elapsed = int(round(time.time()*1000)) -start\n",
    "# print(start.elapsed_time(end))\n",
    "print ('test time elapsed {}ms'.format(time_elapsed))\n",
    "print ('test time elapsed {}s'.format(time_elapsed/1000))\n",
    "print(acc)"
   ]
  },
  {
   "cell_type": "code",
   "execution_count": 33,
   "metadata": {},
   "outputs": [
    {
     "name": "stdout",
     "output_type": "stream",
     "text": [
      "test time per image elapsed 0.8614496934727731 ms\n",
      "test time per image elapsed 0.0008614496934727732 s\n"
     ]
    }
   ],
   "source": [
    "time_per_image = time_elapsed/len(dataset_explain)\n",
    "print ('test time per image elapsed {} ms'.format(time_per_image))\n",
    "print ('test time per image elapsed {} s'.format(time_per_image/1000))"
   ]
  },
  {
   "cell_type": "code",
   "execution_count": 34,
   "metadata": {},
   "outputs": [],
   "source": [
    "# save te Surrogate model 1\n",
    "torch.save(Surrogate1.state_dict(), folder_path+'/networks_final/Surrogate_1.pth')"
   ]
  },
  {
   "cell_type": "code",
   "execution_count": 35,
   "metadata": {},
   "outputs": [],
   "source": [
    "# delete surrogate model 1\n",
    "del explainable_model1\n",
    "gc.collect()\n",
    "torch.cuda.empty_cache()"
   ]
  },
  {
   "cell_type": "code",
   "execution_count": 36,
   "metadata": {},
   "outputs": [],
   "source": [
    "# initializing surrogate model 3\n",
    "Surrogate3 = exp_GenCnnModel2()\n",
    "Surrogate3 = to_device(exp_GenCnnModel2(), device) "
   ]
  },
  {
   "cell_type": "code",
   "execution_count": 37,
   "metadata": {},
   "outputs": [
    {
     "name": "stdout",
     "output_type": "stream",
     "text": [
      "Epoch [0], train_loss: 0.5375, val_loss: 0.3919, val_acc: 0.8202\n",
      "Epoch [1], train_loss: 0.3396, val_loss: 0.2978, val_acc: 0.8619\n",
      "Epoch [2], train_loss: 0.2797, val_loss: 0.2624, val_acc: 0.8759\n",
      "Epoch [3], train_loss: 0.2487, val_loss: 0.2285, val_acc: 0.8960\n",
      "Epoch [4], train_loss: 0.2304, val_loss: 0.2165, val_acc: 0.9028\n",
      "Epoch [5], train_loss: 0.2150, val_loss: 0.1970, val_acc: 0.9142\n",
      "Epoch [6], train_loss: 0.2032, val_loss: 0.1927, val_acc: 0.9127\n",
      "Epoch [7], train_loss: 0.1967, val_loss: 0.1798, val_acc: 0.9206\n",
      "Epoch [8], train_loss: 0.1880, val_loss: 0.1857, val_acc: 0.9142\n",
      "Epoch [9], train_loss: 0.1819, val_loss: 0.1810, val_acc: 0.9215\n",
      "test time elapsed 1334848ms\n",
      "test time elapsed 1334.848s\n"
     ]
    }
   ],
   "source": [
    "#train Surrogate3\n",
    "start =int(round(time.time()*1000))\n",
    "history = fit(num_epochs, lr, Surrogate3, steel_loader, val_loader, opt_func)\n",
    "end =int(round(time.time()*1000))\n",
    "# torch.cuda.synchronize()\n",
    "time_elapsed = int(round(time.time()*1000)) -start\n",
    "# print(start.elapsed_time(end))\n",
    "print ('test time elapsed {}ms'.format(time_elapsed))\n",
    "print ('test time elapsed {}s'.format(time_elapsed/1000))"
   ]
  },
  {
   "cell_type": "code",
   "execution_count": 38,
   "metadata": {},
   "outputs": [],
   "source": [
    "# save Surrogate3\n",
    "torch.save(Surrogate3.state_dict(), folder_path+'/networks_final/Surrogate_3.pth')"
   ]
  },
  {
   "cell_type": "code",
   "execution_count": 39,
   "metadata": {},
   "outputs": [
    {
     "name": "stdout",
     "output_type": "stream",
     "text": [
      "test time elapsed 49394ms\n",
      "test time elapsed 49.394s\n",
      "{'val_loss': 0.18225906789302826, 'val_acc': 0.9179302453994751}\n"
     ]
    }
   ],
   "source": [
    "#evaluate Surrogate3\n",
    "start =int(round(time.time()*1000))\n",
    "acc = evaluate(Surrogate3, steel_loader)\n",
    "end =int(round(time.time()*1000))\n",
    "# torch.cuda.synchronize()\n",
    "time_elapsed = int(round(time.time()*1000)) -start\n",
    "# print(start.elapsed_time(end))\n",
    "print ('test time elapsed {}ms'.format(time_elapsed))\n",
    "print ('test time elapsed {}s'.format(time_elapsed/1000))\n",
    "print(acc)"
   ]
  },
  {
   "cell_type": "code",
   "execution_count": 40,
   "metadata": {},
   "outputs": [
    {
     "name": "stdout",
     "output_type": "stream",
     "text": [
      "test time per image elapsed 1.781247746123332 ms\n",
      "test time per image elapsed 0.001781247746123332 s\n"
     ]
    }
   ],
   "source": [
    "time_per_image = time_elapsed/len(dataset_explain)\n",
    "print ('test time per image elapsed {} ms'.format(time_per_image))\n",
    "print ('test time per image elapsed {} s'.format(time_per_image/1000))"
   ]
  },
  {
   "cell_type": "code",
   "execution_count": 41,
   "metadata": {},
   "outputs": [],
   "source": [
    "# delete Surrogate3\n",
    "del Surrogate3\n",
    "gc.collect()\n",
    "torch.cuda.empty_cache()"
   ]
  },
  {
   "cell_type": "code",
   "execution_count": 42,
   "metadata": {},
   "outputs": [
    {
     "name": "stdout",
     "output_type": "stream",
     "text": [
      "Epoch [0], train_loss: 0.6756, val_loss: 0.5916, val_acc: 0.6847\n",
      "Epoch [1], train_loss: 0.4446, val_loss: 0.3245, val_acc: 0.8524\n",
      "Epoch [2], train_loss: 0.3116, val_loss: 0.2713, val_acc: 0.8777\n",
      "Epoch [3], train_loss: 0.2585, val_loss: 0.2491, val_acc: 0.8874\n",
      "Epoch [4], train_loss: 0.2297, val_loss: 0.1983, val_acc: 0.9102\n",
      "Epoch [5], train_loss: 0.2056, val_loss: 0.1752, val_acc: 0.9210\n",
      "Epoch [6], train_loss: 0.1887, val_loss: 0.1692, val_acc: 0.9239\n",
      "Epoch [7], train_loss: 0.1722, val_loss: 0.1550, val_acc: 0.9343\n",
      "Epoch [8], train_loss: 0.1631, val_loss: 0.1567, val_acc: 0.9314\n",
      "Epoch [9], train_loss: 0.1526, val_loss: 0.1403, val_acc: 0.9397\n",
      "test time elapsed 1268510ms\n",
      "test time elapsed 1268.51s\n"
     ]
    }
   ],
   "source": [
    "# initializing, training and saving surrogate model 4\n",
    "Surrogate4 = exp_GenCnnModel3()\n",
    "Surrogate4 = to_device(exp_GenCnnModel3(), device)\n",
    "start =int(round(time.time()*1000))\n",
    "history = fit(num_epochs, lr, Surrogate4, steel_loader, val_loader, opt_func)\n",
    "end =int(round(time.time()*1000))\n",
    "time_elapsed = int(round(time.time()*1000)) -start\n",
    "print ('test time elapsed {}ms'.format(time_elapsed))\n",
    "print ('test time elapsed {}s'.format(time_elapsed/1000))\n",
    "torch.save(Surrogate4.state_dict(), folder_path+'/networks_final/Surrogate_4.pth')"
   ]
  },
  {
   "cell_type": "code",
   "execution_count": 43,
   "metadata": {},
   "outputs": [
    {
     "name": "stdout",
     "output_type": "stream",
     "text": [
      "test time elapsed 55815ms\n",
      "test time elapsed 55.815s\n",
      "{'val_loss': 0.13803766667842865, 'val_acc': 0.9407051205635071}\n"
     ]
    }
   ],
   "source": [
    "\n",
    "# evaluating Surrogate 4\n",
    "start =int(round(time.time()*1000))\n",
    "acc = evaluate(Surrogate4, steel_loader)\n",
    "end =int(round(time.time()*1000))\n",
    "# torch.cuda.synchronize()\n",
    "time_elapsed = int(round(time.time()*1000)) -start\n",
    "# print(start.elapsed_time(end))\n",
    "print ('test time elapsed {}ms'.format(time_elapsed))\n",
    "print ('test time elapsed {}s'.format(time_elapsed/1000))\n",
    "print(acc)"
   ]
  },
  {
   "cell_type": "code",
   "execution_count": 44,
   "metadata": {},
   "outputs": [
    {
     "name": "stdout",
     "output_type": "stream",
     "text": [
      "test time per image elapsed 2.0128020194734946 ms\n",
      "test time per image elapsed 0.0020128020194734946 s\n"
     ]
    }
   ],
   "source": [
    "time_per_image = time_elapsed/len(dataset_explain)\n",
    "print ('test time per image elapsed {} ms'.format(time_per_image))\n",
    "print ('test time per image elapsed {} s'.format(time_per_image/1000))"
   ]
  },
  {
   "cell_type": "code",
   "execution_count": 45,
   "metadata": {},
   "outputs": [],
   "source": [
    "# deleting Surrogate 4\n",
    "del Surrogate4\n",
    "gc.collect()\n",
    "torch.cuda.empty_cache()"
   ]
  },
  {
   "cell_type": "code",
   "execution_count": null,
   "metadata": {},
   "outputs": [],
   "source": []
  },
  {
   "cell_type": "code",
   "execution_count": null,
   "metadata": {},
   "outputs": [],
   "source": []
  }
 ],
 "metadata": {
  "kernelspec": {
   "display_name": "Python 3",
   "language": "python",
   "name": "python3"
  },
  "language_info": {
   "codemirror_mode": {
    "name": "ipython",
    "version": 3
   },
   "file_extension": ".py",
   "mimetype": "text/x-python",
   "name": "python",
   "nbconvert_exporter": "python",
   "pygments_lexer": "ipython3",
   "version": "3.7.10"
  }
 },
 "nbformat": 4,
 "nbformat_minor": 2
}
